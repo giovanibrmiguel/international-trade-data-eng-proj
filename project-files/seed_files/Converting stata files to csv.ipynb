{
 "cells": [
  {
   "cell_type": "code",
   "execution_count": null,
   "id": "eda29db6",
   "metadata": {},
   "outputs": [],
   "source": [
    "import pandas as pd"
   ]
  },
  {
   "cell_type": "code",
   "execution_count": 3,
   "id": "a85b0220",
   "metadata": {},
   "outputs": [],
   "source": [
    "data = pd.io.stata.read_stata('hs_product.dta')\n",
    "data.to_csv('hs_product.csv')"
   ]
  },
  {
   "cell_type": "code",
   "execution_count": 5,
   "id": "1f9bedd3",
   "metadata": {},
   "outputs": [],
   "source": [
    "data = pd.io.stata.read_stata('location.dta')\n",
    "data.to_csv('location.csv')"
   ]
  },
  {
   "cell_type": "code",
   "execution_count": 6,
   "id": "164a6f57",
   "metadata": {},
   "outputs": [],
   "source": [
    "data = pd.io.stata.read_stata('sitc_product.dta')\n",
    "data.to_csv('sitc_product.csv')"
   ]
  }
 ],
 "metadata": {
  "kernelspec": {
   "display_name": "Python 3 (ipykernel)",
   "language": "python",
   "name": "python3"
  },
  "language_info": {
   "codemirror_mode": {
    "name": "ipython",
    "version": 3
   },
   "file_extension": ".py",
   "mimetype": "text/x-python",
   "name": "python",
   "nbconvert_exporter": "python",
   "pygments_lexer": "ipython3",
   "version": "3.9.12"
  }
 },
 "nbformat": 4,
 "nbformat_minor": 5
}
